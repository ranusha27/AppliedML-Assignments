{
 "cells": [
  {
   "cell_type": "markdown",
   "id": "0a4f41fc",
   "metadata": {},
   "source": [
    "# Applied Machine Learning - Assignment 2\n",
    "#### Submitted by \n",
    "- Anusha R\n",
    "- MDS202212\n",
    "- anushar@cmi.ac.in"
   ]
  },
  {
   "cell_type": "code",
   "execution_count": 1,
   "id": "c2cd6863",
   "metadata": {},
   "outputs": [],
   "source": [
    "# importing necessary libraries\n",
    "\n",
    "import os\n",
    "import pandas as pd\n",
    "\n",
    "from sklearn.feature_extraction.text import TfidfVectorizer\n",
    "from sklearn.metrics import accuracy_score, classification_report\n",
    "from sklearn.metrics import accuracy_score, precision_score, recall_score, f1_score\n",
    "from sklearn.metrics import precision_recall_curve, auc\n",
    "from sklearn.metrics import average_precision_score\n",
    "\n",
    "\n",
    "\n",
    "from sklearn.model_selection import GridSearchCV\n",
    "from sklearn.pipeline import Pipeline\n",
    "\n",
    "from sklearn.naive_bayes import MultinomialNB\n",
    "from sklearn.linear_model import LogisticRegression\n",
    "from sklearn.ensemble import RandomForestClassifier\n",
    "\n",
    "import mlflow\n",
    "import mlflow.sklearn\n",
    "import tempfile"
   ]
  },
  {
   "cell_type": "code",
   "execution_count": 2,
   "id": "860fea98",
   "metadata": {},
   "outputs": [],
   "source": [
    "import warnings\n",
    "\n",
    "warnings.filterwarnings(\"ignore\")"
   ]
  },
  {
   "cell_type": "code",
   "execution_count": 3,
   "id": "711392ac",
   "metadata": {},
   "outputs": [],
   "source": [
    "current_directory = os.getcwd()"
   ]
  },
  {
   "cell_type": "code",
   "execution_count": 4,
   "id": "c5fb42ba",
   "metadata": {},
   "outputs": [],
   "source": [
    "# fit a model on train data\n",
    "\n",
    "def train_model(model, vectorizer, train_df):\n",
    "    X_train = vectorizer.fit_transform(train_df['text'])\n",
    "    y_train = train_df['spam']\n",
    "\n",
    "    pipeline = Pipeline([\n",
    "        ('vectorizer', vectorizer),\n",
    "        ('model', model) ])\n",
    "\n",
    "    pipeline.fit(train_df['text'], y_train)\n",
    "\n",
    "    return pipeline"
   ]
  },
  {
   "cell_type": "code",
   "execution_count": 5,
   "id": "113c3fe6",
   "metadata": {},
   "outputs": [],
   "source": [
    "# score a model on given data\n",
    "\n",
    "def score_model(model, X_data, y_data):\n",
    "    y_pred = model.predict(X_data)\n",
    "    accuracy = accuracy_score(y_data, y_pred)\n",
    "    return accuracy"
   ]
  },
  {
   "cell_type": "code",
   "execution_count": 6,
   "id": "e99dcaa0",
   "metadata": {},
   "outputs": [],
   "source": [
    "# evaluate the model predictions\n",
    "\n",
    "def evaluate_model(model, X_data, y_data):\n",
    "    y_pred = model.predict(X_data)\n",
    "    report = classification_report(y_data, y_pred)\n",
    "    return report"
   ]
  },
  {
   "cell_type": "code",
   "execution_count": 7,
   "id": "85b7fa57",
   "metadata": {},
   "outputs": [],
   "source": [
    "# fine-tune using training data\n",
    "\n",
    "def fine_tune_model(model, param_grid, X_train, y_train):\n",
    "    grid_search = GridSearchCV(model, param_grid, cv=5)\n",
    "    grid_search.fit(X_train, y_train)\n",
    "\n",
    "    return grid_search.best_estimator_"
   ]
  },
  {
   "cell_type": "code",
   "execution_count": 8,
   "id": "567b4dfe",
   "metadata": {},
   "outputs": [],
   "source": [
    "def auc_value(y_data, y_pred):\n",
    "    precision, recall, _ = precision_recall_curve(y_data, y_pred)\n",
    "    return auc(recall, precision)"
   ]
  },
  {
   "cell_type": "code",
   "execution_count": 9,
   "id": "74a153a7",
   "metadata": {},
   "outputs": [],
   "source": [
    "# Function to calculate AUCPR\n",
    "def calculate_aucpr(model, X, y):\n",
    "    y_proba = model.predict_proba(X)[:, 1]\n",
    "    precision, recall, _ = precision_recall_curve(y, y_proba)\n",
    "    aucpr = auc(recall, precision)\n",
    "    return aucpr"
   ]
  },
  {
   "cell_type": "markdown",
   "id": "4fcd8745",
   "metadata": {},
   "source": [
    "## Loading the Preprocessed Dataset"
   ]
  },
  {
   "cell_type": "code",
   "execution_count": 10,
   "id": "2f89b666",
   "metadata": {},
   "outputs": [],
   "source": [
    "train_data = pd.read_csv('train.csv')\n",
    "validation_data = pd.read_csv('validation.csv')\n",
    "test_data = pd.read_csv('test.csv')"
   ]
  },
  {
   "cell_type": "markdown",
   "id": "c198a4c1",
   "metadata": {},
   "source": [
    "## MLFlow"
   ]
  },
  {
   "cell_type": "code",
   "execution_count": 11,
   "id": "bb2b2ef7",
   "metadata": {},
   "outputs": [
    {
     "data": {
      "text/plain": [
       "<Experiment: artifact_location='file:///D:/CMI%20DS/Sem%204/AML/Assignment2/mlruns/831138452859572019', creation_time=1708511803100, experiment_id='831138452859572019', last_update_time=1708511803100, lifecycle_stage='active', name='BenchmarkModelsExperiment', tags={}>"
      ]
     },
     "execution_count": 11,
     "metadata": {},
     "output_type": "execute_result"
    }
   ],
   "source": [
    "mlflow.set_experiment(\"BenchmarkModelsExperiment\")"
   ]
  },
  {
   "cell_type": "code",
   "execution_count": 12,
   "id": "3a82c5cc",
   "metadata": {},
   "outputs": [],
   "source": [
    "# Start MLflow experiment for Naive Bayes model\n",
    "with mlflow.start_run(run_name=\"NaiveBayes\"):\n",
    "    # Train Naive Bayes model\n",
    "    nb_model = MultinomialNB()\n",
    "    nb_pipeline = train_model(nb_model, TfidfVectorizer(), train_data)\n",
    "    \n",
    "    # Fine-tune Naive Bayes model\n",
    "    nb_param_grid = {'model__alpha': [0.1, 0.5, 1.0]}\n",
    "    best_nb_model = fine_tune_model(nb_pipeline, nb_param_grid, train_data['text'], train_data['spam'])\n",
    "    \n",
    "    # Score model on train data\n",
    "    nb_train_accuracy = score_model(best_nb_model, train_data['text'], train_data['spam'])\n",
    "    mlflow.log_metric(\"train_accuracy\", nb_train_accuracy)\n",
    "    \n",
    "    # Calculate and log AUCPR for Naive Bayes model\n",
    "    nb_train_aucpr = calculate_aucpr(best_nb_model, train_data['text'], train_data['spam'])\n",
    "    mlflow.log_metric(\"train_aucpr\", nb_train_aucpr)\n",
    "    \n",
    "    # Evaluate model on train data\n",
    "    nb_train_report = evaluate_model(best_nb_model, train_data['text'], train_data['spam'])\n",
    "    \n",
    "    # Save evaluation report to a temporary file\n",
    "    with tempfile.NamedTemporaryFile(mode='w', delete=False) as tmp_file:\n",
    "        tmp_file.write(nb_train_report)\n",
    "        tmp_file_path = tmp_file.name\n",
    "    \n",
    "    # Log evaluation report file as text artifact\n",
    "    mlflow.log_artifact(tmp_file_path, \"train_evaluation_report.txt\")\n",
    "    \n",
    "    # Log trained model artifact\n",
    "    mlflow.sklearn.log_model(best_nb_model, \"model\")"
   ]
  },
  {
   "cell_type": "code",
   "execution_count": 15,
   "id": "f45a7850",
   "metadata": {},
   "outputs": [],
   "source": [
    "# Start MLflow experiment for logistic regression model\n",
    "with mlflow.start_run(run_name=\"LogisticRegression\"):\n",
    "    # Train logistic regression model\n",
    "    lr_model = LogisticRegression()\n",
    "    lr_pipeline = train_model(lr_model, TfidfVectorizer(), train_data)\n",
    "\n",
    "    # Fine-tune logistic regression model\n",
    "    lr_param_grid = {'model__C': [0.1, 1.0, 10.0]}\n",
    "    best_lr_model = fine_tune_model(lr_pipeline, lr_param_grid, train_data['text'], train_data['spam'])\n",
    "    \n",
    "    # Score model on train data\n",
    "    lr_train_accuracy = score_model(best_lr_model, train_data['text'], train_data['spam'])\n",
    "    mlflow.log_metric(\"train_accuracy\", lr_train_accuracy)\n",
    "    \n",
    "    # Evaluate model on train data\n",
    "    lr_train_predictions = best_lr_model.predict_proba(train_data['text'])[:, 1]\n",
    "    lr_aucpr = average_precision_score(train_data['spam'], lr_train_predictions)\n",
    "    mlflow.log_metric(\"train_aucpr\", lr_aucpr)\n",
    "    \n",
    "    # Log trained model artifact\n",
    "    mlflow.sklearn.log_model(best_lr_model, \"model\")"
   ]
  },
  {
   "cell_type": "code",
   "execution_count": 17,
   "id": "1119541d",
   "metadata": {},
   "outputs": [],
   "source": [
    "# Start MLflow experiment for random forest model\n",
    "with mlflow.start_run(run_name=\"RandomForest\"):\n",
    "    # Train random forest model\n",
    "    rf_model = RandomForestClassifier()\n",
    "    rf_pipeline = train_model(rf_model, TfidfVectorizer(), train_data)\n",
    "\n",
    "    # Fine-tune random forest model\n",
    "    rf_param_grid = {\n",
    "        'model__n_estimators': [50, 100, 200],\n",
    "        'model__max_depth': [None, 10, 20],\n",
    "        'model__min_samples_split': [2, 5, 10],\n",
    "        'model__min_samples_leaf': [1, 2, 4]\n",
    "    }\n",
    "    best_rf_model = fine_tune_model(rf_pipeline, rf_param_grid, train_data['text'], train_data['spam'])\n",
    "    \n",
    "    # Score model on train data\n",
    "    rf_train_accuracy = score_model(best_rf_model, train_data['text'], train_data['spam'])\n",
    "    mlflow.log_metric(\"train_accuracy\", rf_train_accuracy)\n",
    "    \n",
    "    # Evaluate model on train data\n",
    "    rf_train_predictions = best_rf_model.predict_proba(train_data['text'])[:, 1]\n",
    "    rf_aucpr = average_precision_score(train_data['spam'], rf_train_predictions)\n",
    "    mlflow.log_metric(\"train_aucpr\", rf_aucpr)\n",
    "    \n",
    "    # Log trained model artifact\n",
    "    mlflow.sklearn.log_model(best_rf_model, \"model\")"
   ]
  },
  {
   "cell_type": "code",
   "execution_count": 29,
   "id": "8e3ab951",
   "metadata": {},
   "outputs": [
    {
     "name": "stdout",
     "output_type": "stream",
     "text": [
      "Model: Unknown Model, Run ID: 3019d8e680e34b10a6e3049e93bee6ef, AUCPR: 1.0\n",
      "Model: Unknown Model, Run ID: 64750997992e403fb8b7b90fa9867f9c, AUCPR: 0.9999999999999998\n",
      "Model: Unknown Model, Run ID: b91a611cce8343fbbe37ed2abb2ac358, AUCPR: 1.0\n",
      "Model: Unknown Model, Run ID: a0c3a6d5a4e04cbbaddeec7b41c3f00b, AUCPR: 1.0\n",
      "Model: Unknown Model, Run ID: 09336f42ec6144c989d2c56514f454af, AUCPR: 0.9999924325344409\n",
      "The best model based on AUCPR is: Unknown Model with AUCPR: 1.0\n"
     ]
    }
   ],
   "source": [
    "# Retrieve AUCPR values from MLflow\n",
    "aucpr_values = {}\n",
    "runs = mlflow.search_runs()\n",
    "for _, run in runs.iterrows():\n",
    "    run_id = run['run_id']\n",
    "    run_data = mlflow.get_run(run_id).data\n",
    "    if 'train_aucpr' in run_data.metrics.keys():\n",
    "        aucpr_values[run_id] = {\n",
    "            'model_name': run_data.tags.get('model_name', 'Unknown Model'),\n",
    "            'aucpr': run_data.metrics['train_aucpr']\n",
    "        }\n",
    "\n",
    "# Choose the model with the highest AUCPR\n",
    "best_run_id = max(aucpr_values, key=lambda x: aucpr_values[x]['aucpr'])\n",
    "best_model_aucpr = aucpr_values[best_run_id]['aucpr']\n",
    "\n",
    "# Display all results\n",
    "for run_id, values in aucpr_values.items():\n",
    "    print(f\"Model: {values['model_name']}, Run ID: {run_id}, AUCPR: {values['aucpr']}\")\n",
    "\n",
    "best_model_name = aucpr_values[best_run_id]['model_name']\n",
    "print(f\"The best model based on AUCPR is: {best_model_name} with AUCPR: {best_model_aucpr}\")\n"
   ]
  },
  {
   "cell_type": "markdown",
   "id": "5c1e1227",
   "metadata": {},
   "source": [
    "## End of Assignment 2"
   ]
  }
 ],
 "metadata": {
  "kernelspec": {
   "display_name": "Python 3 (ipykernel)",
   "language": "python",
   "name": "python3"
  },
  "language_info": {
   "codemirror_mode": {
    "name": "ipython",
    "version": 3
   },
   "file_extension": ".py",
   "mimetype": "text/x-python",
   "name": "python",
   "nbconvert_exporter": "python",
   "pygments_lexer": "ipython3",
   "version": "3.9.12"
  }
 },
 "nbformat": 4,
 "nbformat_minor": 5
}
