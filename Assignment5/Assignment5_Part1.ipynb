{
  "nbformat": 4,
  "nbformat_minor": 0,
  "metadata": {
    "colab": {
      "provenance": [],
      "gpuType": "T4"
    },
    "kernelspec": {
      "name": "python3",
      "display_name": "Python 3"
    },
    "language_info": {
      "name": "python"
    },
    "accelerator": "GPU"
  },
  "cells": [
    {
      "cell_type": "markdown",
      "source": [
        "# Setting Up"
      ],
      "metadata": {
        "id": "lGaiBSIeFmBz"
      }
    },
    {
      "cell_type": "code",
      "execution_count": 27,
      "metadata": {
        "id": "KLxMpQwTIU4y"
      },
      "outputs": [],
      "source": [
        "from tensorflow.keras.preprocessing.image import ImageDataGenerator\n",
        "import os\n",
        "from tensorflow.keras.applications import VGG16\n",
        "from tensorflow.keras.models import Sequential\n",
        "from tensorflow.keras.layers import Dense, Flatten, Dropout\n",
        "from tensorflow.keras.optimizers import Adam\n",
        "from PIL import Image\n",
        "import numpy as np\n",
        "from sklearn.model_selection import train_test_split\n",
        "from sklearn.metrics import accuracy_score, precision_score, recall_score, f1_score"
      ]
    },
    {
      "cell_type": "code",
      "source": [
        "from google.colab import drive\n",
        "drive.mount('/content/drive')"
      ],
      "metadata": {
        "colab": {
          "base_uri": "https://localhost:8080/"
        },
        "id": "q_Q25s1jOxR3",
        "outputId": "bc95436e-29df-48b2-ea81-2accd533df8c"
      },
      "execution_count": 2,
      "outputs": [
        {
          "output_type": "stream",
          "name": "stdout",
          "text": [
            "Mounted at /content/drive\n"
          ]
        }
      ]
    },
    {
      "cell_type": "code",
      "source": [
        "data_directory = os.path.join(os.getcwd(), 'drive/My Drive/Dataset')"
      ],
      "metadata": {
        "id": "pYg2xhZcO6J2"
      },
      "execution_count": 12,
      "outputs": []
    },
    {
      "cell_type": "markdown",
      "source": [
        "# Question 1 - Binary Image Classification"
      ],
      "metadata": {
        "id": "VhvmMXXrFa21"
      }
    },
    {
      "cell_type": "code",
      "source": [
        "# Define directories for chickens and ducks\n",
        "train_chicken_dir = data_directory+'/chicken-images/data/train'\n",
        "test_chicken_dir = data_directory+'/chicken-images/data/test'\n",
        "val_chicken_dir = data_directory+'/chicken-images/data/val'\n",
        "\n",
        "train_duck_dir = data_directory+'/duck-images/data/train'\n",
        "test_duck_dir = data_directory+'/duck-images/data/test'\n",
        "val_duck_dir = data_directory+'/duck-images/data/val'\n"
      ],
      "metadata": {
        "id": "wb5YOA6HOoSd"
      },
      "execution_count": 22,
      "outputs": []
    },
    {
      "cell_type": "code",
      "source": [
        "os.listdir(chicken_train_dir)[0:5]"
      ],
      "metadata": {
        "colab": {
          "base_uri": "https://localhost:8080/"
        },
        "id": "y4p-cOhC2cwY",
        "outputId": "cfb63331-278a-47f3-97bc-51d5b2bbcea4"
      },
      "execution_count": 14,
      "outputs": [
        {
          "output_type": "execute_result",
          "data": {
            "text/plain": [
              "['1LRILIIFI626.jpg',\n",
              " '36BT5ZUKCAX6.jpg',\n",
              " '1FWMJVFXLG6Y.jpg',\n",
              " '08OZ5SPN1U9F.jpg',\n",
              " '1BD9DQ8ZT4UR.jpg']"
            ]
          },
          "metadata": {},
          "execution_count": 14
        }
      ]
    },
    {
      "cell_type": "markdown",
      "source": [
        "# Utility Functions"
      ],
      "metadata": {
        "id": "s8WyXRKMErai"
      }
    },
    {
      "cell_type": "code",
      "source": [
        "img_size = (224, 224)\n",
        "batch_size = 32"
      ],
      "metadata": {
        "id": "PcRkG2_lPS03"
      },
      "execution_count": 15,
      "outputs": []
    },
    {
      "cell_type": "code",
      "source": [
        "def load_images_from_directory(directory, target_size):\n",
        "    images = []\n",
        "    labels = []\n",
        "    for subdir, _, files in os.walk(directory):\n",
        "        for file in files:\n",
        "            filepath = os.path.join(subdir, file)\n",
        "            try:\n",
        "                img = Image.open(filepath)\n",
        "                img = img.resize(target_size)\n",
        "                img = img.convert('RGB')\n",
        "                images.append(np.array(img))\n",
        "                labels.append(os.path.basename(subdir))\n",
        "            except Exception as e:\n",
        "                print(f\"Error loading image {filepath}: {e}\")\n",
        "    return np.array(images), np.array(labels)"
      ],
      "metadata": {
        "id": "ThYJEq9c4fAX"
      },
      "execution_count": 20,
      "outputs": []
    },
    {
      "cell_type": "markdown",
      "source": [
        "## Loading and Preprocessing the Dataset"
      ],
      "metadata": {
        "id": "HY446Y7lEvgM"
      }
    },
    {
      "cell_type": "code",
      "source": [
        "# Load train images\n",
        "chicken_images, chicken_labels = load_images_from_directory(train_chicken_dir, img_size)\n",
        "duck_images, duck_labels = load_images_from_directory(train_duck_dir, img_size)\n",
        "\n",
        "# Load test images\n",
        "test_chicken_images, test_chicken_labels = load_images_from_directory(test_chicken_dir, img_size)\n",
        "test_duck_images, test_duck_labels = load_images_from_directory(test_duck_dir, img_size)"
      ],
      "metadata": {
        "id": "VXmGPu614g6x"
      },
      "execution_count": 40,
      "outputs": []
    },
    {
      "cell_type": "code",
      "source": [
        "# Convert labels to binary (0 for chicken, 1 for duck)\n",
        "chicken_labels = np.zeros(len(chicken_labels))\n",
        "duck_labels = np.ones(len(duck_labels))\n",
        "\n",
        "test_chicken_labels = np.zeros(len(test_chicken_labels))\n",
        "test_duck_labels = np.ones(len(test_duck_labels))"
      ],
      "metadata": {
        "id": "HWl0rfXn4mKY"
      },
      "execution_count": 41,
      "outputs": []
    },
    {
      "cell_type": "code",
      "source": [
        "# Concatenate chicken and duck images and labels\n",
        "X_train = np.concatenate([chicken_images, duck_images], axis=0)\n",
        "y_train = np.concatenate([chicken_labels, duck_labels], axis=0)\n",
        "\n",
        "X_test = np.concatenate([test_chicken_images, test_duck_images], axis=0)\n",
        "y_test = np.concatenate([test_chicken_labels, test_duck_labels], axis=0)"
      ],
      "metadata": {
        "id": "61DeS9P-5HPG"
      },
      "execution_count": 42,
      "outputs": []
    },
    {
      "cell_type": "code",
      "source": [
        "print(\"Loaded\", len(X_train), \"training images.\")\n",
        "print(\"Loaded\", len(y_train), \"training labels.\")"
      ],
      "metadata": {
        "colab": {
          "base_uri": "https://localhost:8080/"
        },
        "id": "NoMUIUdv5KWf",
        "outputId": "3999595e-017a-4601-dc5c-c87d699ae06a"
      },
      "execution_count": 26,
      "outputs": [
        {
          "output_type": "stream",
          "name": "stdout",
          "text": [
            "Loaded 897 training images.\n",
            "Loaded 897 training labels.\n"
          ]
        }
      ]
    },
    {
      "cell_type": "code",
      "source": [
        "# Load the pre-trained VGG16 model without the top (classification) layer\n",
        "base_model = VGG16(weights='imagenet', include_top=False, input_shape=(img_size[0], img_size[1], 3))"
      ],
      "metadata": {
        "colab": {
          "base_uri": "https://localhost:8080/"
        },
        "id": "lwvRmz2o5MLn",
        "outputId": "e6c124d6-4124-4c32-f6db-fbfcb2a83cb0"
      },
      "execution_count": 29,
      "outputs": [
        {
          "output_type": "stream",
          "name": "stdout",
          "text": [
            "Downloading data from https://storage.googleapis.com/tensorflow/keras-applications/vgg16/vgg16_weights_tf_dim_ordering_tf_kernels_notop.h5\n",
            "58889256/58889256 [==============================] - 0s 0us/step\n"
          ]
        }
      ]
    },
    {
      "cell_type": "code",
      "source": [
        "# Freeze the weights of the pre-trained layers\n",
        "for layer in base_model.layers:\n",
        "    layer.trainable = False"
      ],
      "metadata": {
        "id": "3wAbwIY9B1Z2"
      },
      "execution_count": 30,
      "outputs": []
    },
    {
      "cell_type": "code",
      "source": [
        "# Create a new model on top of the pre-trained model\n",
        "model = Sequential([\n",
        "    base_model,\n",
        "    Flatten(),\n",
        "    Dense(256, activation='relu'),\n",
        "    Dropout(0.5),\n",
        "    Dense(1, activation='sigmoid')\n",
        "])"
      ],
      "metadata": {
        "id": "MBU0bw_0B7KS"
      },
      "execution_count": 31,
      "outputs": []
    },
    {
      "cell_type": "code",
      "source": [
        "# Split the data into training and validation sets\n",
        "X_train, X_val, y_train, y_val = train_test_split(X_train, y_train, test_size=0.2, random_state=42)\n"
      ],
      "metadata": {
        "id": "Qk8XjH7lDCk1"
      },
      "execution_count": 34,
      "outputs": []
    },
    {
      "cell_type": "code",
      "source": [
        "# Compile the model\n",
        "model.compile(optimizer=Adam(lr=0.0001), loss='binary_crossentropy', metrics=['accuracy'])\n",
        "\n",
        "# Train the model\n",
        "history = model.fit(X_train, y_train, epochs=10, batch_size=32, validation_split=0.2)"
      ],
      "metadata": {
        "colab": {
          "base_uri": "https://localhost:8080/"
        },
        "id": "lPun8tziB8q4",
        "outputId": "dc3cb382-fd3d-4ca8-c6bf-ff026a5d1045"
      },
      "execution_count": 35,
      "outputs": [
        {
          "output_type": "stream",
          "name": "stderr",
          "text": [
            "WARNING:absl:`lr` is deprecated in Keras optimizer, please use `learning_rate` or use the legacy optimizer, e.g.,tf.keras.optimizers.legacy.Adam.\n"
          ]
        },
        {
          "output_type": "stream",
          "name": "stdout",
          "text": [
            "Epoch 1/10\n",
            "18/18 [==============================] - 15s 795ms/step - loss: 0.3523 - accuracy: 0.9825 - val_loss: 0.0228 - val_accuracy: 0.9931\n",
            "Epoch 2/10\n",
            "18/18 [==============================] - 3s 170ms/step - loss: 0.2143 - accuracy: 0.9878 - val_loss: 0.0774 - val_accuracy: 0.9861\n",
            "Epoch 3/10\n",
            "18/18 [==============================] - 3s 171ms/step - loss: 0.4662 - accuracy: 0.9860 - val_loss: 0.3182 - val_accuracy: 0.9861\n",
            "Epoch 4/10\n",
            "18/18 [==============================] - 3s 176ms/step - loss: 0.5608 - accuracy: 0.9721 - val_loss: 0.5618 - val_accuracy: 0.9792\n",
            "Epoch 5/10\n",
            "18/18 [==============================] - 3s 176ms/step - loss: 0.5393 - accuracy: 0.9808 - val_loss: 0.3727 - val_accuracy: 0.9722\n",
            "Epoch 6/10\n",
            "18/18 [==============================] - 3s 176ms/step - loss: 0.1289 - accuracy: 0.9895 - val_loss: 0.2256 - val_accuracy: 0.9792\n",
            "Epoch 7/10\n",
            "18/18 [==============================] - 4s 217ms/step - loss: 0.6300 - accuracy: 0.9808 - val_loss: 0.6364 - val_accuracy: 0.9792\n",
            "Epoch 8/10\n",
            "18/18 [==============================] - 3s 181ms/step - loss: 0.2220 - accuracy: 0.9860 - val_loss: 0.8267 - val_accuracy: 0.9514\n",
            "Epoch 9/10\n",
            "18/18 [==============================] - 3s 180ms/step - loss: 0.3784 - accuracy: 0.9808 - val_loss: 0.6567 - val_accuracy: 0.9792\n",
            "Epoch 10/10\n",
            "18/18 [==============================] - 3s 180ms/step - loss: 0.4742 - accuracy: 0.9843 - val_loss: 0.6509 - val_accuracy: 0.9722\n"
          ]
        }
      ]
    },
    {
      "cell_type": "code",
      "source": [
        "# Evaluate the model on validation set\n",
        "val_loss, val_acc = model.evaluate(X_val, y_val)\n",
        "print(\"Validation Loss:\", val_loss)\n",
        "print(\"Validation Accuracy:\", val_acc)"
      ],
      "metadata": {
        "colab": {
          "base_uri": "https://localhost:8080/"
        },
        "id": "xr6FsYQgB_Aw",
        "outputId": "b8fc3400-c338-4b49-df8f-0285aa1180dc"
      },
      "execution_count": 36,
      "outputs": [
        {
          "output_type": "stream",
          "name": "stdout",
          "text": [
            "6/6 [==============================] - 1s 133ms/step - loss: 0.5237 - accuracy: 0.9833\n",
            "Validation Loss: 0.5237137079238892\n",
            "Validation Accuracy: 0.9833333492279053\n"
          ]
        }
      ]
    },
    {
      "cell_type": "code",
      "source": [
        "# Predict on test set\n",
        "y_pred = model.predict(X_test)\n",
        "y_pred = (y_pred > 0.5)"
      ],
      "metadata": {
        "id": "3OjEajglFRCq"
      },
      "execution_count": null,
      "outputs": []
    },
    {
      "cell_type": "code",
      "source": [
        "# Evaluate the predictions\n",
        "accuracy = accuracy_score(y_test, y_pred)\n",
        "precision = precision_score(y_test, y_pred)\n",
        "recall = recall_score(y_test, y_pred)\n",
        "f1 = f1_score(y_test, y_pred)\n",
        "\n",
        "print(\"Test Accuracy:\", accuracy)\n",
        "print(\"Precision:\", precision)\n",
        "print(\"Recall:\", recall)\n",
        "print(\"F1 Score:\", f1)"
      ],
      "metadata": {
        "colab": {
          "base_uri": "https://localhost:8080/"
        },
        "id": "__NJDPFXC416",
        "outputId": "399df64c-4103-43bb-df0d-997e83b1bc4e"
      },
      "execution_count": 43,
      "outputs": [
        {
          "output_type": "stream",
          "name": "stdout",
          "text": [
            "16/16 [==============================] - 4s 222ms/step\n",
            "Test Accuracy: 0.9232365145228216\n",
            "Precision: 0.941747572815534\n",
            "Recall: 0.9387096774193548\n",
            "F1 Score: 0.9402261712439419\n"
          ]
        }
      ]
    }
  ]
}