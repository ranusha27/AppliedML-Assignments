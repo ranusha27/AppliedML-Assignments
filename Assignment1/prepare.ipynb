{
 "cells": [
  {
   "cell_type": "markdown",
   "id": "1c4f323d",
   "metadata": {},
   "source": [
    "# Applied Machine Learning - Assignment 1\n",
    "##### Submitted by \n",
    "- Anusha R\n",
    "- MDS202212\n",
    "- anushar@cmi.ac.in, r.anusha27@gmail.com"
   ]
  },
  {
   "cell_type": "code",
   "execution_count": 41,
   "id": "f3e8efaa",
   "metadata": {},
   "outputs": [],
   "source": [
    "# Importing necessary libraries\n",
    "\n",
    "import pandas as pd\n",
    "import re\n",
    "import numpy as np\n",
    "\n",
    "from sklearn.model_selection import train_test_split\n",
    "\n",
    "from nltk.corpus import stopwords\n",
    "from nltk.tokenize import word_tokenize"
   ]
  },
  {
   "cell_type": "code",
   "execution_count": 42,
   "id": "ae8f3839",
   "metadata": {},
   "outputs": [],
   "source": [
    "# load the data from a given file path\n",
    "\n",
    "def load_data(file_path):\n",
    "    return pd.read_csv(file_path)"
   ]
  },
  {
   "cell_type": "code",
   "execution_count": 1,
   "id": "1a404204",
   "metadata": {},
   "outputs": [],
   "source": [
    "# preprocess the data\n",
    "\n",
    "def preprocess_text(text):\n",
    "    text = text.lower()\n",
    "    text_cleaned = re.sub(r'[^a-zA-Z]', ' ', text)\n",
    "    return text_cleaned\n",
    "\n",
    "def preprocess_data(df):\n",
    "    df['text'] = df['text'].apply(lambda x: preprocess_text(x))\n",
    "    return df"
   ]
  },
  {
   "cell_type": "code",
   "execution_count": 44,
   "id": "202ce627",
   "metadata": {},
   "outputs": [],
   "source": [
    "# split the data into train/validation/test \n",
    "\n",
    "def split_data(df, test_size=0.2, validation_size=0.25, random_state=42):\n",
    "    train, test = train_test_split(df, test_size=test_size, \n",
    "                                   random_state=random_state, stratify=df['spam'])\n",
    "    \n",
    "    train, validation = train_test_split(train, test_size=validation_size, \n",
    "                                         random_state=random_state, stratify=train['spam'])\n",
    "    \n",
    "    return train, validation, test"
   ]
  },
  {
   "cell_type": "code",
   "execution_count": 45,
   "id": "7c9ef008",
   "metadata": {},
   "outputs": [],
   "source": [
    "# store the splits at train.csv/validation.csv/test.csv\n",
    "\n",
    "def save_data(train, validation, test, train_path='train.csv', validation_path='validation.csv', test_path='test.csv'):\n",
    "    train.to_csv(train_path, index=False)\n",
    "    validation.to_csv(validation_path, index=False)\n",
    "    test.to_csv(test_path, index=False)"
   ]
  }
 ],
 "metadata": {
  "kernelspec": {
   "display_name": "Python 3 (ipykernel)",
   "language": "python",
   "name": "python3"
  },
  "language_info": {
   "codemirror_mode": {
    "name": "ipython",
    "version": 3
   },
   "file_extension": ".py",
   "mimetype": "text/x-python",
   "name": "python",
   "nbconvert_exporter": "python",
   "pygments_lexer": "ipython3",
   "version": "3.9.12"
  }
 },
 "nbformat": 4,
 "nbformat_minor": 5
}
